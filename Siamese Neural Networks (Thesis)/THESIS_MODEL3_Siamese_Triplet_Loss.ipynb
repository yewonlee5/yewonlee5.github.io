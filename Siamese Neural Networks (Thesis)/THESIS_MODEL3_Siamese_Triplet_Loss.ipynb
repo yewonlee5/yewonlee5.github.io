{
  "cells": [
    {
      "cell_type": "markdown",
      "metadata": {
        "id": "view-in-github",
        "colab_type": "text"
      },
      "source": [
        "<a href=\"https://colab.research.google.com/github/yewonlee5/yewonlee5.github.io/blob/main/Siamese%20Neural%20Networks%20(Thesis)/THESIS_MODEL3_Siamese_Triplet_Loss.ipynb\" target=\"_parent\"><img src=\"https://colab.research.google.com/assets/colab-badge.svg\" alt=\"Open In Colab\"/></a>"
      ]
    },
    {
      "cell_type": "code",
      "execution_count": null,
      "metadata": {
        "colab": {
          "base_uri": "https://localhost:8080/"
        },
        "id": "BbY1-mjtjrfE",
        "outputId": "fb15f29a-dc2a-45cf-94ee-cade7d038612"
      },
      "outputs": [
        {
          "name": "stdout",
          "output_type": "stream",
          "text": [
            "Mounted at /content/drive\n"
          ]
        }
      ],
      "source": [
        "from google.colab import drive\n",
        "drive.mount('/content/drive')"
      ]
    },
    {
      "cell_type": "code",
      "execution_count": null,
      "metadata": {
        "id": "k9KqM8WAjxss"
      },
      "outputs": [],
      "source": [
        "# imports\n",
        "\n",
        "%matplotlib inline\n",
        "import torchvision\n",
        "import torchvision.datasets as dset\n",
        "import torchvision.transforms as transforms\n",
        "from torch.utils.data import DataLoader,Dataset\n",
        "import matplotlib.pyplot as plt\n",
        "import torchvision.utils\n",
        "import numpy as np\n",
        "import pandas as pd\n",
        "import random\n",
        "from PIL import Image\n",
        "import torch\n",
        "from torch.autograd import Variable\n",
        "import PIL.ImageOps\n",
        "import torch.nn as nn\n",
        "from torch import optim\n",
        "import torch.nn.functional as F\n",
        "import torchvision.transforms.functional as F2"
      ]
    },
    {
      "cell_type": "code",
      "execution_count": null,
      "metadata": {
        "id": "_xOQz3UajxpI"
      },
      "outputs": [],
      "source": [
        "# help functions\n",
        "\n",
        "def imshow(img,text=None,should_save=False):\n",
        "    npimg = img.numpy()\n",
        "    plt.axis(\"off\")\n",
        "    if text:\n",
        "        plt.text(75, 8, text, style='italic',fontweight='bold',\n",
        "            bbox={'facecolor':'white', 'alpha':0.8, 'pad':10})\n",
        "    plt.imshow(np.transpose(npimg, (1, 2, 0)))\n",
        "    plt.show()\n",
        "\n",
        "def show_plot(iteration,loss):\n",
        "    plt.plot(iteration,loss)\n",
        "    plt.show()"
      ]
    },
    {
      "cell_type": "code",
      "execution_count": null,
      "metadata": {
        "id": "oh-uvxPejxm8"
      },
      "outputs": [],
      "source": [
        "# configurations\n",
        "\n",
        "class Config():\n",
        "    training_dir = \"./drive/MyDrive/thesis/output/train/\"\n",
        "    validating_dir = \"./drive/MyDrive/thesis/output/val/\"\n",
        "    testing_dir = \"./drive/MyDrive/thesis/output/test/\"\n",
        "    train_batch_size = 64\n",
        "    train_number_epochs = 100"
      ]
    },
    {
      "cell_type": "code",
      "execution_count": null,
      "metadata": {
        "id": "XJX3tsOjj3ga"
      },
      "outputs": [],
      "source": [
        "# Define WhitePad\n",
        "\n",
        "class WhitePad:\n",
        "  def __call__(self, image):\n",
        "    max_wh = max(image.size)\n",
        "    p_left, p_top = [(max_wh - s)//2 for s in image.size]\n",
        "    p_right, p_bottom = [max_wh - (s + pad) for s, pad in zip(image.size, [p_left, p_top])]\n",
        "    padding = (p_left, p_top, p_right, p_bottom)\n",
        "    return F2.pad(image, padding, 255, 'constant')"
      ]
    },
    {
      "cell_type": "code",
      "execution_count": null,
      "metadata": {
        "colab": {
          "base_uri": "https://localhost:8080/",
          "height": 417
        },
        "id": "yO1uyYB78wyr",
        "outputId": "0189f300-5b08-4503-afac-bede7b219fda"
      },
      "outputs": [
        {
          "data": {
            "image/png": "[encoded data removed]",
            "text/plain": [
              "<PIL.Image.Image image mode=L size=100x100 at 0x7F1B88265F90>"
            ]
          },
          "metadata": {},
          "output_type": "display_data"
        },
        {
          "data": {
            "image/png": "[encoded data removed]",
            "text/plain": [
              "<PIL.Image.Image image mode=L size=100x100 at 0x7F1B88264340>"
            ]
          },
          "metadata": {},
          "output_type": "display_data"
        },
        {
          "data": {
            "image/png": "[encoded data removed]",
            "text/plain": [
              "<PIL.Image.Image image mode=L size=100x100 at 0x7F1B88266BC0>"
            ]
          },
          "metadata": {},
          "output_type": "display_data"
        },
        {
          "data": {
            "image/png": "[encoded data removed]",
            "text/plain": [
              "<PIL.Image.Image image mode=L size=100x100 at 0x7F1B88266D40>"
            ]
          },
          "metadata": {},
          "output_type": "display_data"
        }
      ],
      "source": [
        "# Examples\n",
        "\n",
        "img1 = Image.open(r\"./drive/MyDrive/thesis/output/train/Air Filter/042-1590.png\")\n",
        "img2 = Image.open(r\"./drive/MyDrive/thesis/output/train/Air Filter/ACA1615CF.png\")\n",
        "img3 = Image.open(r\"./drive/MyDrive/thesis/output/train/Tail Light/A1R221151.png\")\n",
        "img4 = Image.open(r\"./drive/MyDrive/thesis/output/train/Tail Light/A1R221147.png\")\n",
        "\n",
        "\n",
        "transform=transforms.Compose([\n",
        "    WhitePad(),\n",
        "    transforms.Resize((100,100)),\n",
        "    transforms.Grayscale()\n",
        "    ])\n",
        "\n",
        "img11 = transform(img1)\n",
        "img22 = transform(img2)\n",
        "img33 = transform(img3)\n",
        "img44 = transform(img4)\n",
        "\n",
        "\n",
        "img11.show() # Air Filter\n",
        "img22.show()\n",
        "img33.show() # Tail Light\n",
        "img44.show()\n",
        "\n"
      ]
    },
    {
      "cell_type": "code",
      "execution_count": null,
      "metadata": {
        "id": "HzrhZtrFj4FV"
      },
      "outputs": [],
      "source": [
        "import cv2\n",
        "\n",
        "class TripletDataset(Dataset):\n",
        "    def __init__(self, imageFolderDataset, transform=None):\n",
        "        self.imageFolderDataset = imageFolderDataset\n",
        "        # self.is_train = train\n",
        "        self.transform = transform\n",
        "\n",
        "    def __getitem__(self, index):\n",
        "\n",
        "\n",
        "        # if self.is_train:\n",
        "\n",
        "            anchor_tuple = self.imageFolderDataset.imgs[index]\n",
        "            anchor_label = anchor_tuple[1]\n",
        "\n",
        "            random_list = self.imageFolderDataset.imgs[:index] + self.imageFolderDataset.imgs[index+1:]\n",
        "            while True:\n",
        "              positive_tuple = random.choice(random_list)\n",
        "              #keep looping till the same class image is found\n",
        "              if anchor_tuple[1]==positive_tuple[1]:\n",
        "                break\n",
        "            while True:\n",
        "              negative_tuple = random.choice(random_list)\n",
        "              #keep looping till a different class image is found\n",
        "              if anchor_tuple[1]!=negative_tuple[1]:\n",
        "                break\n",
        "\n",
        "            anchor_img = Image.open(anchor_tuple[0])\n",
        "            positive_img = Image.open(positive_tuple[0])\n",
        "            negative_img = Image.open(negative_tuple[0])\n",
        "            anchor_img = anchor_img.convert(\"L\")\n",
        "            positive_img = positive_img.convert(\"L\")\n",
        "            negative_img = negative_img.convert(\"L\")\n",
        "\n",
        "            if self.transform:\n",
        "              anchor_img = self.transform(anchor_img)\n",
        "              positive_img = self.transform(positive_img)\n",
        "              negative_img = self.transform(negative_img)\n",
        "\n",
        "            return anchor_img, positive_img, negative_img, anchor_label\n",
        "\n",
        "        # else:\n",
        "        #     anchor_tuple = random.choice(self.imageFolderDataset.imgs)\n",
        "        #     anchor_img = Image.open(anchor_tuple[0])\n",
        "        #     anchor_img = anchor_img.convert(\"L\")\n",
        "\n",
        "        #     if self.transform:\n",
        "        #       anchor_img = self.transform(anchor_img)\n",
        "\n",
        "        #     return anchor_img\n",
        "\n",
        "    def __len__(self):\n",
        "        return len(self.imageFolderDataset.imgs)\n",
        "\n"
      ]
    },
    {
      "cell_type": "code",
      "execution_count": null,
      "metadata": {
        "id": "Wt6yXGryK7er"
      },
      "outputs": [],
      "source": [
        "# Thereshold -> using loss.mean()\n",
        "# hard & semi-hard negatives\n",
        "margin = 2.0\n",
        "\n",
        "import cv2\n",
        "\n",
        "class TripletDataset(Dataset):\n",
        "    def __init__(self, imageFolderDataset, transform=None):\n",
        "        self.imageFolderDataset = imageFolderDataset\n",
        "        # self.is_train = train\n",
        "        self.transform = transform\n",
        "\n",
        "    def __getitem__(self, index):\n",
        "\n",
        "        # if self.is_train:\n",
        "\n",
        "            anchor_tuple = self.imageFolderDataset.imgs[index]\n",
        "            anchor_label = anchor_tuple[1]\n",
        "            while True:\n",
        "            # positive random choice\n",
        "              while True:\n",
        "\n",
        "                random_list = self.imageFolderDataset.imgs[:index] + self.imageFolderDataset.imgs[index+1:]\n",
        "                positive_tuple = random.choice(random_list)\n",
        "\n",
        "                #keep looping till the same class image is found\n",
        "                if anchor_tuple[1]==positive_tuple[1]:\n",
        "                  break\n",
        "              while True:\n",
        "                #keep looping till a different class image is found\n",
        "                negative_tuple = random.choice(random_list)\n",
        "\n",
        "                if anchor_tuple[1]==negative_tuple[1]:\n",
        "                  break\n",
        "\n",
        "\n",
        "              anchor_img = Image.open(anchor_tuple[0])\n",
        "              positive_img = Image.open(positive_tuple[0])\n",
        "              negative_img = Image.open(negative_tuple[0])\n",
        "              anchor_img = anchor_img.convert(\"L\")\n",
        "              positive_img = positive_img.convert(\"L\")\n",
        "              negative_img = negative_img.convert(\"L\")\n",
        "\n",
        "              if self.transform:\n",
        "                anchor_img = self.transform(anchor_img)\n",
        "                positive_img = self.transform(positive_img)\n",
        "                negative_img = self.transform(negative_img)\n",
        "\n",
        "              # only hard & semi-hard negatives\n",
        "              # simple distance (before the model)\n",
        "              ans = (anchor_img - positive_img).pow(2).sum(1) - (anchor_img - negative_img).pow(2).sum(1) - margin\n",
        "\n",
        "\n",
        "              if ans.mean() <= 0:\n",
        "                return anchor_img, positive_img, negative_img, anchor_label\n",
        "                break\n",
        "\n",
        "\n",
        "        # else:\n",
        "        #     anchor_tuple = random.choice(self.imageFolderDataset.imgs)\n",
        "        #     anchor_img = Image.open(anchor_tuple[0])\n",
        "        #     anchor_img = anchor_img.convert(\"L\")\n",
        "\n",
        "        #     if self.transform:\n",
        "        #       anchor_img = self.transform(anchor_img)\n",
        "\n",
        "        #     return anchor_img\n",
        "\n",
        "    def __len__(self):\n",
        "        return len(self.imageFolderDataset.imgs)\n",
        "\n"
      ]
    },
    {
      "cell_type": "code",
      "execution_count": null,
      "metadata": {
        "id": "moTsKdiTC8JG"
      },
      "outputs": [],
      "source": [
        "# image folder dataset\n",
        "\n",
        "folder_dataset = dset.ImageFolder(root=Config.training_dir)\n",
        "folder_dataset_val = dset.ImageFolder(root=Config.validating_dir)"
      ]
    },
    {
      "cell_type": "code",
      "execution_count": null,
      "metadata": {
        "id": "_KACH0sjj4B7"
      },
      "outputs": [],
      "source": [
        "train_ds = TripletDataset(folder_dataset,\n",
        "                 transform=transforms.Compose([\n",
        "                                               WhitePad(),\n",
        "                                               transforms.Resize((100,100)),\n",
        "                                               transforms.ToTensor()\n",
        "                                               ])\n",
        "                 )\n",
        "\n",
        "\n",
        "train_loader = DataLoader(train_ds, batch_size=Config.train_batch_size, shuffle=True, num_workers=8)"
      ]
    },
    {
      "cell_type": "code",
      "execution_count": null,
      "metadata": {
        "id": "Rx4es9XNDqll"
      },
      "outputs": [],
      "source": [
        "val_ds = TripletDataset(folder_dataset_val,\n",
        "                        transform=transforms.Compose([\n",
        "                                               WhitePad(),\n",
        "                                               transforms.Resize((100,100)),\n",
        "                                               transforms.ToTensor()\n",
        "                                               ])\n",
        "                        )\n",
        "val_loader = DataLoader(val_ds, batch_size=1, shuffle=True, num_workers=6)"
      ]
    },
    {
      "cell_type": "code",
      "execution_count": null,
      "metadata": {
        "id": "AxBUk6i5ETNu"
      },
      "outputs": [],
      "source": [
        "# Define TripletLoss\n",
        "margin = 2.0\n",
        "\n",
        "class TripletLoss(nn.Module):\n",
        "    def __init__(self, margin=margin):\n",
        "        super(TripletLoss, self).__init__()\n",
        "        self.margin = margin\n",
        "\n",
        "    def calc_euclidean(self, x1, x2):\n",
        "        return (x1 - x2).pow(2).sum(1)\n",
        "\n",
        "    def forward(self, anchor: torch.Tensor, positive: torch.Tensor, negative: torch.Tensor) -> torch.Tensor:\n",
        "        distance_positive = self.calc_euclidean(anchor, positive)\n",
        "        distance_negative = self.calc_euclidean(anchor, negative)\n",
        "        losses = torch.relu(distance_positive - distance_negative + self.margin)\n",
        "\n",
        "        return losses.mean()"
      ]
    },
    {
      "cell_type": "code",
      "execution_count": null,
      "metadata": {
        "id": "DGK0brKyEXYT"
      },
      "outputs": [],
      "source": [
        "# Define Neural Network\n",
        "class Network(nn.Module):\n",
        "    def __init__(self):\n",
        "        super(Network, self).__init__()\n",
        "        self.cnn1 = nn.Sequential(\n",
        "            nn.ReflectionPad2d(1),\n",
        "            nn.Conv2d(1, 4, kernel_size=3),\n",
        "            nn.ReLU(inplace=True),\n",
        "            nn.BatchNorm2d(4),\n",
        "\n",
        "            nn.ReflectionPad2d(1),\n",
        "            nn.Conv2d(4, 8, kernel_size=3),\n",
        "            nn.ReLU(inplace=True),\n",
        "            nn.BatchNorm2d(8),\n",
        "\n",
        "\n",
        "            nn.ReflectionPad2d(1),\n",
        "            nn.Conv2d(8, 8, kernel_size=3),\n",
        "            nn.ReLU(inplace=True),\n",
        "            nn.BatchNorm2d(8),\n",
        "\n",
        "\n",
        "        )\n",
        "\n",
        "        self.fc1 = nn.Sequential(\n",
        "            nn.Linear(8*100*100, 500),\n",
        "            nn.ReLU(inplace=True),\n",
        "\n",
        "            nn.Linear(500, 500),\n",
        "            nn.ReLU(inplace=True),\n",
        "\n",
        "            nn.Linear(500, 5))\n",
        "\n",
        "\n",
        "    def forward(self, x):\n",
        "        output = self.cnn1(x)\n",
        "        output = output.view( output.size()[0], -1) # x = x.view(-1, 64*4*4)\n",
        "        output = self.fc1(output)\n",
        "        # x = nn.functional.normalize(x)\n",
        "        return output"
      ]
    },
    {
      "cell_type": "code",
      "execution_count": null,
      "metadata": {
        "id": "zJ3CC1O6Erzp"
      },
      "outputs": [],
      "source": [
        "# weight initialize\n",
        "def init_weights(m):\n",
        "    if isinstance(m, nn.Conv2d):\n",
        "        torch.nn.init.kaiming_normal_(m.weight)"
      ]
    },
    {
      "cell_type": "code",
      "execution_count": null,
      "metadata": {
        "id": "_ON-in2NE9Qq"
      },
      "outputs": [],
      "source": []
    },
    {
      "cell_type": "code",
      "execution_count": null,
      "metadata": {
        "id": "UmwM4KDbE9rK"
      },
      "outputs": [],
      "source": [
        "# Create Instances\n",
        "\n",
        "model = Network()\n",
        "model.apply(init_weights)\n",
        "model = torch.jit.script(model).cuda()\n",
        "\n",
        "optimizer = optim.Adam(model.parameters(), lr=0.0005)\n",
        "criterion = torch.jit.script(TripletLoss())"
      ]
    },
    {
      "cell_type": "code",
      "execution_count": null,
      "metadata": {
        "id": "W_cuLniCHQCv"
      },
      "outputs": [],
      "source": [
        "# Training Loop\n",
        "from tqdm import tqdm\n",
        "\n",
        "# Execution time\n",
        "import time\n",
        "\n",
        "# get starting time\n",
        "start = time.time()\n",
        "\n",
        "\n",
        "train_losses = []\n",
        "val_losses = []\n",
        "\n",
        "train_accuracy = []\n",
        "val_accuracy = []\n",
        "\n",
        "\n",
        "model.train()\n",
        "for epoch in tqdm(range(Config.train_number_epochs), desc=\"Epochs\"):\n",
        "    running_loss = 0.0\n",
        "    correct = 0.0\n",
        "    for step, (anchor_img, positive_img, negative_img, anchor_label) in enumerate(tqdm(train_loader, desc=\"Training\", leave=False)):\n",
        "        anchor_img = anchor_img.cuda()\n",
        "        positive_img = positive_img.cuda()\n",
        "        negative_img = negative_img.cuda()\n",
        "\n",
        "        optimizer.zero_grad()\n",
        "        anchor_out = model(anchor_img)\n",
        "        positive_out = model(positive_img)\n",
        "        negative_out = model(negative_img)\n",
        "\n",
        "        loss = criterion(anchor_out, positive_out, negative_out)\n",
        "        loss.backward()\n",
        "        optimizer.step()\n",
        "\n",
        "        running_loss += loss.item()\n",
        "\n",
        "        ans = (anchor_out - negative_out).pow(2).sum(1) - (anchor_out - positive_out).pow(2).sum(1) - margin\n",
        "\n",
        "        if ans.mean().item() >= 0:\n",
        "          correct += 1\n",
        "\n",
        "        if step % 10 == 0:\n",
        "          print(\"Epoch number {} , Current Train Loss {}\".format(epoch+1, loss.item()))\n",
        "\n",
        "    avg_train_loss = running_loss / len(train_loader)\n",
        "    train_losses.append(avg_train_loss)\n",
        "    avg_train_accuracy = correct / len(train_loader)\n",
        "    train_accuracy.append(avg_train_accuracy)\n",
        "\n",
        "    # check validation loss after every epoch\n",
        "    val_running_loss = 0.0\n",
        "    val_correct = 0.0\n",
        "    with torch.no_grad():\n",
        "      model.eval()\n",
        "      for step, (anchor_img, positive_img, negative_img, anchor_label) in enumerate(tqdm(val_loader, desc=\"Training\", leave=False)): ##\n",
        "        anchor_img = anchor_img.cuda()\n",
        "        positive_img = positive_img.cuda()\n",
        "        negative_img = negative_img.cuda()\n",
        "\n",
        "        optimizer.zero_grad()\n",
        "        anchor_out = model(anchor_img)\n",
        "        positive_out = model(positive_img)\n",
        "        negative_out = model(negative_img)\n",
        "\n",
        "        loss = criterion(anchor_out, positive_out, negative_out)\n",
        "\n",
        "        ans = (anchor_out - negative_out).pow(2).sum(1) - (anchor_out - positive_out).pow(2).sum(1) - margin\n",
        "\n",
        "        if ans.mean().item() >= 0:\n",
        "          correct += 1\n",
        "\n",
        "        val_running_loss += loss.item()\n",
        "\n",
        "      avg_val_loss = val_running_loss / len(val_loader)\n",
        "      val_losses.append(avg_val_loss)\n",
        "      avg_val_accuracy = correct / len(val_loader)\n",
        "      val_accuracy.append(avg_val_accuracy)\n",
        "\n",
        "      elapsed_time = (time.time() - start)\n",
        "\n",
        "      print('Epoch [{}/{}],Train Loss: {:.4f}, Valid Loss: {:.8f}, Accumulated Execution time: {:.2f}'.format(epoch+1, Config.train_number_epochs, avg_train_loss, avg_val_loss, elapsed_time))\n",
        "      print('Epoch [{}/{}],Train Accuracy : {:.8f}, Valid Accuracy: {:.8f}'.format(epoch+1, Config.train_number_epochs, avg_train_accuracy, avg_val_accuracy))\n",
        "\n",
        "      # For each epoch, save model checkpoint\n",
        "      torch.save({\n",
        "            'epoch': epoch,\n",
        "            'model_state_dict': model.state_dict(),\n",
        "            'optimizer_state_dict': optimizer.state_dict(),\n",
        "            'loss': criterion,\n",
        "            }, '/content/drive/MyDrive/thesis/checkpoint_Triplet_50.pth')\n",
        "      # For each epoch, save loss & accuracy\n",
        "      # df = pd.DataFrame({'training_loss': train_losses, 'validation_loss': val_losses} )\n",
        "      df = pd.DataFrame({'training_loss': train_losses, 'validation_loss': val_losses,  'validation_accuracy': val_accuracy} )\n",
        "      df.to_csv('/content/drive/MyDrive/thesis/model3_loss_accuracy.csv')\n",
        "\n",
        "elapsed_time = (time.time() - start)\n",
        "print(\"Finished Training\")\n",
        "print(elapsed_time)"
      ]
    },
    {
      "cell_type": "code",
      "execution_count": null,
      "metadata": {
        "colab": {
          "base_uri": "https://localhost:8080/"
        },
        "id": "NA4xAx0R3NRz",
        "outputId": "23045c9d-f5c4-439f-836f-f2f7da3b2c5d"
      },
      "outputs": [
        {
          "data": {
            "text/plain": [
              "tensor([10.7703,  2.8284, 10.7703])"
            ]
          },
          "execution_count": 14,
          "metadata": {},
          "output_type": "execute_result"
        }
      ],
      "source": [
        "x = torch.tensor([[1, 2, 3], [4, 5, 6], [7, 8, 9]], dtype=torch.float)\n",
        "y = torch.tensor([[9, 8, 7], [6, 5, 4], [3, 2, 1]], dtype=torch.float)\n",
        "\n",
        "ex1 = torch.norm(x - y, dim=1)\n",
        "ex1"
      ]
    },
    {
      "cell_type": "code",
      "execution_count": null,
      "metadata": {
        "id": "lc3qle6BIhzT"
      },
      "outputs": [],
      "source": [
        "ex2 = (y-x).pow(2).sum(1)"
      ]
    },
    {
      "cell_type": "code",
      "execution_count": null,
      "metadata": {
        "colab": {
          "base_uri": "https://localhost:8080/"
        },
        "id": "c3X2VPEiIhwf",
        "outputId": "caa6ce69-73ca-4321-ad1a-4c843cee6bd0"
      },
      "outputs": [
        {
          "data": {
            "text/plain": [
              "tensor([10.7703,  2.8284, 10.7703])"
            ]
          },
          "execution_count": 16,
          "metadata": {},
          "output_type": "execute_result"
        }
      ],
      "source": [
        "ex1"
      ]
    },
    {
      "cell_type": "code",
      "execution_count": null,
      "metadata": {
        "colab": {
          "base_uri": "https://localhost:8080/"
        },
        "id": "WNoUNU6rIhtm",
        "outputId": "ffcc44ab-2ee8-4bb1-e539-9a210521c258"
      },
      "outputs": [
        {
          "data": {
            "text/plain": [
              "tensor([116.,   8., 116.])"
            ]
          },
          "execution_count": 17,
          "metadata": {},
          "output_type": "execute_result"
        }
      ],
      "source": [
        "ex2"
      ]
    },
    {
      "cell_type": "code",
      "execution_count": null,
      "metadata": {
        "id": "sOHn22Y-FKcI"
      },
      "outputs": [],
      "source": [
        "a = ex1-ex2"
      ]
    },
    {
      "cell_type": "code",
      "execution_count": null,
      "metadata": {
        "id": "LLmYKHz3Ihk9"
      },
      "outputs": [],
      "source": [
        "a = torch.relu(ex1-ex2)"
      ]
    },
    {
      "cell_type": "code",
      "execution_count": null,
      "metadata": {
        "colab": {
          "base_uri": "https://localhost:8080/"
        },
        "id": "8U21WYK_LBE7",
        "outputId": "6027393d-d013-444b-8094-2b8870c50e3d"
      },
      "outputs": [
        {
          "data": {
            "text/plain": [
              "-71.87696838378906"
            ]
          },
          "execution_count": 28,
          "metadata": {},
          "output_type": "execute_result"
        }
      ],
      "source": [
        "a.mean().item()"
      ]
    },
    {
      "cell_type": "code",
      "execution_count": null,
      "metadata": {
        "id": "DMNEGosmLBCE"
      },
      "outputs": [],
      "source": []
    },
    {
      "cell_type": "code",
      "execution_count": null,
      "metadata": {
        "id": "dG0-f6MyLA8G"
      },
      "outputs": [],
      "source": []
    },
    {
      "cell_type": "code",
      "execution_count": null,
      "metadata": {
        "id": "tR5jJnZ2HWAU"
      },
      "outputs": [],
      "source": [
        "# Save Params\n",
        "\n",
        "# save\n",
        "torch.save(model.state_dict(), '/content/drive/MyDrive/thesis/checkpoint_Triplet3.pth')\n",
        "\n",
        "# Triplet1 : margin = 1.0\n",
        "# Triplet2 : margin = 0.005\n",
        "# Triplet3 : margin = 2.0 & fixed dataset"
      ]
    },
    {
      "cell_type": "code",
      "execution_count": null,
      "metadata": {
        "colab": {
          "base_uri": "https://localhost:8080/"
        },
        "id": "aLRiWdgeRXYg",
        "outputId": "c0476748-5133-4095-d841-fb426027bae8"
      },
      "outputs": [
        {
          "name": "stdout",
          "output_type": "stream",
          "text": [
            "odict_keys(['cnn1.1.weight', 'cnn1.1.bias', 'cnn1.3.weight', 'cnn1.3.bias', 'cnn1.3.running_mean', 'cnn1.3.running_var', 'cnn1.3.num_batches_tracked', 'cnn1.5.weight', 'cnn1.5.bias', 'cnn1.7.weight', 'cnn1.7.bias', 'cnn1.7.running_mean', 'cnn1.7.running_var', 'cnn1.7.num_batches_tracked', 'cnn1.9.weight', 'cnn1.9.bias', 'cnn1.11.weight', 'cnn1.11.bias', 'cnn1.11.running_mean', 'cnn1.11.running_var', 'cnn1.11.num_batches_tracked', 'fc1.0.weight', 'fc1.0.bias', 'fc1.2.weight', 'fc1.2.bias', 'fc1.4.weight', 'fc1.4.bias'])\n"
          ]
        }
      ],
      "source": [
        "# load the state\n",
        "state_dict = torch.load(r\"/content/drive/MyDrive/thesis/checkpoint_Triplet3.pth\")\n",
        "print(state_dict.keys())"
      ]
    },
    {
      "cell_type": "code",
      "execution_count": null,
      "metadata": {
        "colab": {
          "base_uri": "https://localhost:8080/"
        },
        "id": "RuWbies9ReS_",
        "outputId": "aa80f41e-d733-48bd-8218-65515637048e"
      },
      "outputs": [
        {
          "data": {
            "text/plain": [
              "<All keys matched successfully>"
            ]
          },
          "execution_count": 16,
          "metadata": {},
          "output_type": "execute_result"
        }
      ],
      "source": [
        "# load the state dict into the model\n",
        "model.load_state_dict(state_dict)"
      ]
    },
    {
      "cell_type": "code",
      "execution_count": null,
      "metadata": {
        "id": "Mc5T5JgLR1sZ"
      },
      "outputs": [],
      "source": []
    },
    {
      "cell_type": "code",
      "execution_count": null,
      "metadata": {
        "colab": {
          "base_uri": "https://localhost:8080/",
          "height": 430
        },
        "id": "-x-bTwN6R1l-",
        "outputId": "13c75add-c03e-4539-f5b8-7d8cb00f1e9a"
      },
      "outputs": [
        {
          "data": {
            "image/png": "[encoded data removed]",
            "text/plain": [
              "<Figure size 640x480 with 1 Axes>"
            ]
          },
          "metadata": {},
          "output_type": "display_data"
        }
      ],
      "source": [
        "# Model3 # Plot\n",
        "\n",
        "x = [i for i in range(Config.train_number_epochs)]\n",
        "\n",
        "plt.plot(x, train_losses, label = \"train loss\")\n",
        "plt.plot(x, val_losses, label = \"validation loss\")\n",
        "plt.legend()\n",
        "plt.show()"
      ]
    },
    {
      "cell_type": "code",
      "execution_count": null,
      "metadata": {
        "id": "QBoR3mwgR1fK"
      },
      "outputs": [],
      "source": [
        "# Model3 # Plot # 100\n",
        "\n",
        "plt.style.use(\"seaborn-darkgrid\")\n",
        "\n",
        "x = [i for i in range(Config.train_number_epochs)]\n",
        "\n",
        "plt.plot(x, train_losses, label = \"train loss\", color = '#fde725')\n",
        "plt.plot(x, val_losses, label = \"validation loss\", color = '#440154')\n",
        "plt.viridis()\n",
        "plt.legend()\n",
        "plt.show()"
      ]
    },
    {
      "cell_type": "code",
      "execution_count": null,
      "metadata": {
        "id": "spGd3U2OEbDx"
      },
      "outputs": [],
      "source": [
        "# Accuracy History _ 100\n",
        "\n",
        "plt.style.use(\"seaborn-darkgrid\")\n",
        "\n",
        "x = [i for i in range(Config.train_number_epochs)]\n",
        "\n",
        "plt.plot(x, train_accuracy, label = \"train accuracy\", color = '#fde725')\n",
        "plt.plot(x, val_accuracy, label = \"validation accuracy\", color = '#440154')\n",
        "plt.xlabel('epoch')\n",
        "plt.ylabel('accuracy')\n",
        "plt.viridis()\n",
        "plt.legend()\n",
        "plt.show()"
      ]
    },
    {
      "cell_type": "code",
      "execution_count": null,
      "metadata": {
        "id": "4d_qh9oFEXjV"
      },
      "outputs": [],
      "source": []
    },
    {
      "cell_type": "code",
      "execution_count": null,
      "metadata": {
        "id": "1m7Z1poBEXf2"
      },
      "outputs": [],
      "source": []
    },
    {
      "cell_type": "code",
      "execution_count": null,
      "metadata": {
        "id": "6ldNqi-mHfwQ"
      },
      "outputs": [],
      "source": [
        "# test result\n",
        "\n",
        "train_results = []\n",
        "labels = []\n",
        "\n",
        "model.eval()\n",
        "with torch.no_grad():\n",
        "    for img, _, _, label in tqdm(train_loader):\n",
        "        train_results.append(model(img.cuda()).cpu().numpy())\n",
        "        labels.append(label)\n",
        "\n",
        "train_results = np.concatenate(train_results)\n",
        "labels = np.concatenate(labels)\n",
        "train_results.shape"
      ]
    },
    {
      "cell_type": "code",
      "execution_count": null,
      "metadata": {
        "id": "727muS-nzbdK"
      },
      "outputs": [],
      "source": []
    },
    {
      "cell_type": "markdown",
      "metadata": {
        "id": "GqsEak5HzcyX"
      },
      "source": [
        "Test"
      ]
    },
    {
      "cell_type": "code",
      "execution_count": null,
      "metadata": {
        "id": "C1NJwmpVzbWU"
      },
      "outputs": [],
      "source": [
        "folder_dataset_test = dset.ImageFolder(root=Config.testing_dir)\n",
        "\n",
        "test_ds = TripletDataset(folder_dataset_test,\n",
        "                        transform=transforms.Compose([\n",
        "                                               WhitePad(),\n",
        "                                               transforms.Resize((100,100)),\n",
        "                                               transforms.ToTensor()\n",
        "                                               ])\n",
        "                        )\n",
        "test_loader = DataLoader(test_ds, batch_size=1, shuffle=True, num_workers=6)"
      ]
    },
    {
      "cell_type": "code",
      "execution_count": null,
      "metadata": {
        "id": "wA7aQC_1fuPy"
      },
      "outputs": [],
      "source": [
        "accuracy=0\n",
        "counter=0\n",
        "correct=0\n",
        "\n",
        "# margin = 2.0\n",
        "\n",
        "for step, (anchor_img, positive_img, negative_img, anchor_label) in enumerate(test_loader):\n",
        "  anchor_img = anchor_img.cuda()\n",
        "  positive_img = positive_img.cuda()\n",
        "  negative_img = negative_img.cuda()\n",
        "\n",
        "  anchor_out = model(anchor_img)\n",
        "  positive_out = model(positive_img)\n",
        "  negative_out = model(negative_img)\n",
        "\n",
        "  ans = (anchor_out - negative_out).pow(2).sum(1) - (anchor_out - positive_out).pow(2).sum(1) - margin\n",
        "\n",
        "  if  ans.mean().item() >0 :\n",
        "    correct += 1\n",
        "\n",
        "\n",
        "accuracy=(correct/len(test_loader))*100\n",
        "print(\"Accuracy:{}%\".format(accuracy))"
      ]
    },
    {
      "cell_type": "code",
      "execution_count": null,
      "metadata": {
        "id": "FJXPZvvew3lH"
      },
      "outputs": [],
      "source": [
        "# Precision Score = TP / (FP + TP)\n",
        "# specificity\n",
        "\n",
        "precision=0\n",
        "TP=0\n",
        "FP=0\n",
        "\n",
        "for step, (anchor_img, positive_img, negative_img, anchor_label) in enumerate(test_loader):\n",
        "  anchor_img = anchor_img.cuda()\n",
        "  positive_img = positive_img.cuda()\n",
        "  negative_img = negative_img.cuda()\n",
        "\n",
        "  anchor_out = model(anchor_img)\n",
        "  positive_out = model(positive_img)\n",
        "  negative_out = model(negative_img)\n",
        "\n",
        "  if (anchor_out - positive_out).pow(2).sum(1) < (anchor_out - negative_out).pow(2).sum(1):\n",
        "    correct += 1\n",
        "\n",
        "\n",
        "precision=(correct/len(test_loader))*100\n",
        "print(\"Precision:{}%\".format(precision))"
      ]
    }
  ],
  "metadata": {
    "accelerator": "GPU",
    "colab": {
      "machine_shape": "hm",
      "provenance": [],
      "authorship_tag": "ABX9TyMkC3ZwSxUDPEvmrFmbvBAl",
      "include_colab_link": true
    },
    "kernelspec": {
      "display_name": "Python 3",
      "name": "python3"
    },
    "language_info": {
      "name": "python"
    }
  },
  "nbformat": 4,
  "nbformat_minor": 0
}