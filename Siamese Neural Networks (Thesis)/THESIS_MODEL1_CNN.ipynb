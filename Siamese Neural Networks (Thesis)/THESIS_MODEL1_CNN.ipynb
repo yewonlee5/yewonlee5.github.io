{
  "cells": [
    {
      "cell_type": "markdown",
      "metadata": {
        "id": "view-in-github",
        "colab_type": "text"
      },
      "source": [
        "<a href=\"https://colab.research.google.com/github/yewonlee5/yewonlee5.github.io/blob/main/Siamese%20Neural%20Networks%20(Thesis)/THESIS_MODEL1_CNN.ipynb\" target=\"_parent\"><img src=\"https://colab.research.google.com/assets/colab-badge.svg\" alt=\"Open In Colab\"/></a>"
      ]
    },
    {
      "cell_type": "code",
      "execution_count": null,
      "metadata": {
        "id": "ReR0N4OnfFn0"
      },
      "outputs": [],
      "source": [
        "from google.colab import drive\n",
        "drive.mount('/content/drive')"
      ]
    },
    {
      "cell_type": "code",
      "execution_count": null,
      "metadata": {
        "colab": {
          "base_uri": "https://localhost:8080/"
        },
        "id": "tV0-Ikb5f3Wy",
        "outputId": "928251f3-ba47-4498-fe34-d572550aa4d5"
      },
      "outputs": [
        {
          "data": {
            "text/plain": [
              "352"
            ]
          },
          "execution_count": 3,
          "metadata": {},
          "output_type": "execute_result"
        }
      ],
      "source": [
        "import os\n",
        "\n",
        "# How many categories?\n",
        "path = r\"/content/drive/MyDrive/thesis/train/\"\n",
        "\n",
        "dir_list = os.listdir(path)\n",
        "\n",
        "len(dir_list)\n"
      ]
    },
    {
      "cell_type": "code",
      "execution_count": null,
      "metadata": {
        "colab": {
          "base_uri": "https://localhost:8080/"
        },
        "id": "PcG_wsqYf6tR",
        "outputId": "b42742cf-d630-4ce5-8bb3-43dcc14f8252"
      },
      "outputs": [
        {
          "data": {
            "text/plain": [
              "15165"
            ]
          },
          "execution_count": 3,
          "metadata": {},
          "output_type": "execute_result"
        }
      ],
      "source": [
        "# How many total data?\n",
        "path = r\"/content/drive/MyDrive/thesis/train/\"\n",
        "\n",
        "l=[]\n",
        "for path, subdirs, files in os.walk(path):\n",
        "  for name in files:\n",
        "    l.append(os.path.join(path, name))\n",
        "\n",
        "len(l)"
      ]
    },
    {
      "cell_type": "code",
      "execution_count": null,
      "metadata": {
        "colab": {
          "base_uri": "https://localhost:8080/"
        },
        "id": "LnOOET0Kf84-",
        "outputId": "fb5d55a2-35d4-45b0-fcf5-272a61527515"
      },
      "outputs": [
        {
          "data": {
            "text/plain": [
              "11984"
            ]
          },
          "execution_count": 4,
          "metadata": {},
          "output_type": "execute_result"
        }
      ],
      "source": [
        "# How many training data?\n",
        "path = r\"/content/drive/MyDrive/thesis/output/train/\"\n",
        "\n",
        "l=[]\n",
        "for path, subdirs, files in os.walk(path):\n",
        "  for name in files:\n",
        "    l.append(os.path.join(path, name))\n",
        "\n",
        "len(l)"
      ]
    },
    {
      "cell_type": "code",
      "execution_count": null,
      "metadata": {
        "colab": {
          "base_uri": "https://localhost:8080/"
        },
        "id": "v8agIid9gCde",
        "outputId": "7e79b722-2378-4f63-becc-3f620f0801ac"
      },
      "outputs": [
        {
          "data": {
            "text/plain": [
              "1368"
            ]
          },
          "execution_count": 5,
          "metadata": {},
          "output_type": "execute_result"
        }
      ],
      "source": [
        "# How many validating data?\n",
        "path = r\"/content/drive/MyDrive/thesis/output/val/\"\n",
        "\n",
        "l=[]\n",
        "for path, subdirs, files in os.walk(path):\n",
        "  for name in files:\n",
        "    l.append(os.path.join(path, name))\n",
        "\n",
        "len(l)"
      ]
    },
    {
      "cell_type": "code",
      "execution_count": null,
      "metadata": {
        "colab": {
          "base_uri": "https://localhost:8080/"
        },
        "id": "XFqFOuErgEem",
        "outputId": "3bcc6d0a-de78-4d8b-9418-5afbea10676b"
      },
      "outputs": [
        {
          "data": {
            "text/plain": [
              "1811"
            ]
          },
          "execution_count": 6,
          "metadata": {},
          "output_type": "execute_result"
        }
      ],
      "source": [
        "# How many testing data?\n",
        "path = r\"/content/drive/MyDrive/thesis/output/test/\"\n",
        "\n",
        "l=[]\n",
        "for path, subdirs, files in os.walk(path):\n",
        "  for name in files:\n",
        "    l.append(os.path.join(path, name))\n",
        "\n",
        "len(l)"
      ]
    },
    {
      "cell_type": "code",
      "execution_count": null,
      "metadata": {
        "id": "21M2xwdZgF8k"
      },
      "outputs": [],
      "source": []
    },
    {
      "cell_type": "code",
      "execution_count": null,
      "metadata": {
        "id": "XxZ3l8iHgGsT"
      },
      "outputs": [],
      "source": [
        "# https://medium.com/hackernoon/facial-similarity-with-siamese-networks-in-pytorch-9642aa9db2f7\n",
        "\n",
        "# imports\n",
        "\n",
        "%matplotlib inline\n",
        "import torchvision\n",
        "import torchvision.datasets as dset\n",
        "import torchvision.transforms as transforms\n",
        "from torch.utils.data import DataLoader,Dataset\n",
        "import matplotlib.pyplot as plt\n",
        "import torchvision.utils\n",
        "import numpy as np\n",
        "import pandas as pd\n",
        "import random\n",
        "from PIL import Image\n",
        "import torch\n",
        "from torch.autograd import Variable\n",
        "import PIL.ImageOps\n",
        "import torch.nn as nn\n",
        "from torch import optim\n",
        "import torch.nn.functional as F\n",
        "import torchvision.transforms.functional as F2"
      ]
    },
    {
      "cell_type": "code",
      "execution_count": null,
      "metadata": {
        "id": "a6I3v5VsgMMt"
      },
      "outputs": [],
      "source": [
        "# help functions\n",
        "\n",
        "def imshow(img,text=None,should_save=False):\n",
        "    npimg = img.numpy()\n",
        "    plt.axis(\"off\")\n",
        "    if text:\n",
        "        plt.text(75, 8, text, style='italic',fontweight='bold',\n",
        "            bbox={'facecolor':'white', 'alpha':0.8, 'pad':10})\n",
        "    plt.imshow(np.transpose(npimg, (1, 2, 0)))\n",
        "    plt.show()\n",
        "\n",
        "def show_plot(iteration,loss):\n",
        "    plt.plot(iteration,loss)\n",
        "    plt.show()"
      ]
    },
    {
      "cell_type": "code",
      "execution_count": null,
      "metadata": {
        "id": "DJ9hkUD1gdO5"
      },
      "outputs": [],
      "source": [
        "# configurations\n",
        "\n",
        "class Config():\n",
        "    training_dir = \"./drive/MyDrive/thesis/output/train/\"\n",
        "    validating_dir = \"./drive/MyDrive/thesis/output/val/\"\n",
        "    testing_dir = \"./drive/MyDrive/thesis/output/test/\"\n",
        "    train_batch_size = 64\n",
        "    train_number_epochs = 100"
      ]
    },
    {
      "cell_type": "code",
      "execution_count": null,
      "metadata": {
        "colab": {
          "base_uri": "https://localhost:8080/"
        },
        "id": "ChYNiEw3gnvT",
        "outputId": "680f509b-c4fb-4524-c5eb-495dd7032c24"
      },
      "outputs": [
        {
          "output_type": "stream",
          "name": "stdout",
          "text": [
            "352\n"
          ]
        }
      ],
      "source": [
        "# The folder contains a subfolder for each class of shape\n",
        "\n",
        "import os\n",
        "\n",
        "classes = sorted(os.listdir(Config.training_dir))\n",
        "num_classes = len(classes)\n",
        "print(num_classes)"
      ]
    },
    {
      "cell_type": "code",
      "execution_count": null,
      "metadata": {
        "id": "bzqZWQJygocs"
      },
      "outputs": [],
      "source": [
        "# Define WhitePad\n",
        "\n",
        "class WhitePad:\n",
        "  def __call__(self, image):\n",
        "    max_wh = max(image.size)\n",
        "    p_left, p_top = [(max_wh - s)//2 for s in image.size]\n",
        "    p_right, p_bottom = [max_wh - (s + pad) for s, pad in zip(image.size, [p_left, p_top])]\n",
        "    padding = (p_left, p_top, p_right, p_bottom)\n",
        "    return F2.pad(image, padding, 255, 'constant')\n",
        "\n"
      ]
    },
    {
      "cell_type": "code",
      "execution_count": null,
      "metadata": {
        "id": "i35X0keZgqig"
      },
      "outputs": [],
      "source": [
        "# simple CNN transform\n",
        "\n",
        "transform=transforms.Compose([\n",
        "    WhitePad(),\n",
        "    transforms.Resize((100,100)),\n",
        "    transforms.Grayscale(),\n",
        "    transforms.ToTensor()\n",
        "    ])"
      ]
    },
    {
      "cell_type": "code",
      "execution_count": null,
      "metadata": {
        "id": "CpGpmB3wC21N"
      },
      "outputs": [],
      "source": [
        "# image folder dataset\n",
        "\n",
        "folder_dataset = dset.ImageFolder(root=Config.training_dir, transform=transform)\n",
        "folder_dataset_val = dset.ImageFolder(root=Config.validating_dir, transform=transform)"
      ]
    },
    {
      "cell_type": "code",
      "execution_count": null,
      "metadata": {
        "id": "ZTFS7ndsgsrK"
      },
      "outputs": [],
      "source": [
        "# data loaders\n",
        "train_loader = DataLoader(\n",
        "    folder_dataset, batch_size=Config.train_batch_size, shuffle=True,\n",
        "    num_workers=4, pin_memory=True\n",
        ")\n",
        "\n",
        "val_loader = DataLoader(\n",
        "    folder_dataset_val, batch_size=Config.train_batch_size, shuffle=False,\n",
        "    num_workers=4, pin_memory=True\n",
        ")"
      ]
    },
    {
      "cell_type": "code",
      "execution_count": null,
      "metadata": {
        "colab": {
          "base_uri": "https://localhost:8080/"
        },
        "id": "TyBH6CWyg0dt",
        "outputId": "bde05b55-732d-434f-e2d7-512bd5b1313d"
      },
      "outputs": [
        {
          "output_type": "stream",
          "name": "stdout",
          "text": [
            "Net(\n",
            "  (conv1): Conv2d(1, 4, kernel_size=(3, 3), stride=(1, 1), padding=(1, 1))\n",
            "  (conv2): Conv2d(4, 8, kernel_size=(3, 3), stride=(1, 1), padding=(1, 1))\n",
            "  (pool): MaxPool2d(kernel_size=2, stride=2, padding=0, dilation=1, ceil_mode=False)\n",
            "  (fc): Linear(in_features=5000, out_features=352, bias=True)\n",
            ")\n"
          ]
        }
      ],
      "source": [
        "# https://www.kaggle.com/code/androbomb/using-cnn-to-classify-images-w-pytorch\n",
        "# https://medium.com/thecyphy/train-cnn-model-with-pytorch-21dafb918f48\n",
        "\n",
        "# Create a neural net class\n",
        "class Net(nn.Module):\n",
        "\n",
        "\n",
        "    # Defining the Constructor\n",
        "    def __init__(self, num_classes=num_classes):\n",
        "        super(Net, self).__init__()\n",
        "\n",
        "        # In the init function, we define each layer we will use in our model\n",
        "\n",
        "        # Grey scale images : input channels = 1\n",
        "        # We will apply 4 filters in the first convolutional layer\n",
        "        self.conv1 = nn.Conv2d(in_channels=1, out_channels=4, kernel_size=3, stride=1, padding=1)\n",
        "\n",
        "        # A second convolutional layer takes 4 input channels, and generates 8 outputs\n",
        "        self.conv2 = nn.Conv2d(in_channels=4, out_channels=8, kernel_size=3, stride=1, padding=1)\n",
        "\n",
        "        # We in the end apply max pooling with a kernel size of 2\n",
        "        self.pool = nn.MaxPool2d(kernel_size=2)\n",
        "\n",
        "        # A drop layer deletes 20% of the features to help prevent overfitting\n",
        "        # self.drop = nn.Dropout2d(p=0.2)\n",
        "\n",
        "        # Our 100x100 image tensors will be pooled twice with a kernel size of 2. 100/2/2 is 25.\n",
        "        # This means that our feature tensors are now 25 x 25, and we've generated 8 of them\n",
        "\n",
        "        # We need to flatten these in order to feed them to a fully-connected layer\n",
        "        self.fc = nn.Linear(in_features=25 * 25 * 8, out_features=num_classes)\n",
        "\n",
        "    def forward(self, x):\n",
        "        # In the forward function, pass the data through the layers we defined in the init function\n",
        "\n",
        "        # Use a ReLU activation function after layer 1 (convolution 1 and pool)\n",
        "        x = F.relu(self.pool(self.conv1(x)))\n",
        "\n",
        "        # Use a ReLU activation function after layer 2\n",
        "        x = F.relu(self.pool(self.conv2(x)))\n",
        "\n",
        "        # Select some features to drop to prevent overfitting (only drop during training)\n",
        "        # x = F.dropout(self.drop(x), training=self.training)\n",
        "\n",
        "        # Flatten\n",
        "        x = x.view((-1, 25 * 25 * 8)) # -1, x.size(0)\n",
        "        # Feed to fully-connected layer to predict class\n",
        "        x = self.fc(x)\n",
        "        # Return class probabilities via a log_softmax function\n",
        "        return torch.log_softmax(x, dim=1)\n",
        "\n",
        "\n",
        "Net = Net(num_classes).cuda()\n",
        "# Net = Net(num_classes).cpu()\n",
        "\n",
        "print(Net)"
      ]
    },
    {
      "cell_type": "code",
      "execution_count": null,
      "metadata": {
        "id": "0B_sh0rmg2dh"
      },
      "outputs": [],
      "source": [
        "# training\n",
        "def train(model, train_loader, optimizer, epoch):\n",
        "    # Set the model to training mode\n",
        "    model.train()\n",
        "    train_loss = 0\n",
        "    correct = 0\n",
        "    # Process the images in batches\n",
        "    for batch_idx, (data, target) in enumerate(train_loader):\n",
        "        data, target = data.cuda(), target.cuda()\n",
        "        # data, target = data.cpu(), target.cpu()\n",
        "\n",
        "        # Reset the optimizer\n",
        "        optimizer.zero_grad()\n",
        "\n",
        "        # Push the data forward through the model layers\n",
        "        output = model(data)\n",
        "\n",
        "        # Get the loss\n",
        "        loss = loss_criteria(output, target)\n",
        "\n",
        "        # Keep a running total\n",
        "        train_loss += loss.item()\n",
        "\n",
        "        # Backpropagate\n",
        "        loss.backward()\n",
        "        optimizer.step()\n",
        "\n",
        "        # Print metrics so we see some progress\n",
        "        # print('\\tTraining batch {} Loss: {:.6f}'.format(batch_idx + 1, loss.item()))\n",
        "\n",
        "        # Calculate the accuracy for this batch\n",
        "        _, predicted = torch.max(output.data, 1)\n",
        "        correct += torch.sum(target==predicted).item()\n",
        "\n",
        "    # return average loss for the epoch\n",
        "    avg_loss = train_loss / (batch_idx+1)\n",
        "    train_accuracy = correct/len(train_loader.dataset)\n",
        "    print('Training set: Average loss: {:.6f}, Train Accuracy: {:.6f}'.format(avg_loss, train_accuracy))\n",
        "    return avg_loss, train_accuracy"
      ]
    },
    {
      "cell_type": "code",
      "execution_count": null,
      "metadata": {
        "id": "ElZJbbdtg3mL"
      },
      "outputs": [],
      "source": [
        "def validation(model, val_loader):\n",
        "    # Switch the model to evaluation mode (so we don't backpropagate or drop)\n",
        "    model.eval()\n",
        "    val_loss = 0\n",
        "    correct = 0\n",
        "    with torch.no_grad():\n",
        "        batch_count = 0\n",
        "        for data, target in val_loader:\n",
        "            batch_count += 1\n",
        "            data, target = data.cuda(), target.cuda()\n",
        "            # data, target = data.cpu(), target.cpu()\n",
        "\n",
        "            # Get the predicted classes for this batch\n",
        "            output = model(data)\n",
        "\n",
        "            # Calculate the loss for this batch\n",
        "            val_loss += loss_criteria(output, target).item()\n",
        "\n",
        "            # Calculate the accuracy for this batch\n",
        "            _, predicted = torch.max(output.data, 1)\n",
        "            correct += torch.sum(target==predicted).item()\n",
        "\n",
        "    # Calculate the average loss and total accuracy for this epoch\n",
        "    avg_loss = val_loss / batch_count\n",
        "    val_accuracy = correct / len(val_loader.dataset)\n",
        "    print('Validation set: Average loss: {:.6f}, Accuracy: {}/{} ({:.0f}%)\\n'.format(\n",
        "        avg_loss, correct, len(val_loader.dataset),\n",
        "        100. * correct / len(val_loader.dataset)))\n",
        "\n",
        "    # return average loss for the epoch\n",
        "    return avg_loss, val_accuracy"
      ]
    },
    {
      "cell_type": "code",
      "execution_count": null,
      "metadata": {
        "id": "Eus0aWHNg_e7"
      },
      "outputs": [],
      "source": [
        "# Cross Entropy\n",
        "from torch.nn import CrossEntropyLoss\n",
        "\n",
        "optimizer = optim.Adam(Net.parameters(), lr = 0.0005 )\n",
        "\n",
        "loss_criteria = CrossEntropyLoss()"
      ]
    },
    {
      "cell_type": "markdown",
      "source": [
        "# Resume training"
      ],
      "metadata": {
        "id": "Zogv5BF5oelf"
      }
    },
    {
      "cell_type": "code",
      "source": [
        "df = pd.read_csv('/content/drive/MyDrive/thesis/model1_loss_accuracy.csv', index_col=0)"
      ],
      "metadata": {
        "id": "ldVhUvz8od__"
      },
      "execution_count": null,
      "outputs": []
    },
    {
      "cell_type": "code",
      "source": [
        "training_loss = list(df['training_loss'])\n",
        "validation_loss = list(df['validation_loss'])\n",
        "training_accuracy = list(df['training_accuracy'])\n",
        "validation_accuracy = list(df['validation_accuracy'])"
      ],
      "metadata": {
        "id": "7X-TkTRdo17_"
      },
      "execution_count": null,
      "outputs": []
    },
    {
      "cell_type": "code",
      "source": [
        "# load the model checkpoint\n",
        "checkpoint = torch.load('/content/drive/MyDrive/thesis/checkpoint_CNN_50.pth')\n",
        "# load model weights state_dict\n",
        "Net.load_state_dict(checkpoint['model_state_dict'])\n",
        "print('Previously trained model weights state_dict loaded...')\n",
        "# load trained optimizer state_dict\n",
        "optimizer.load_state_dict(checkpoint['optimizer_state_dict'])\n",
        "print('Previously trained optimizer state_dict loaded...')\n",
        "epochs = checkpoint['epoch']\n",
        "# load the criterion\n",
        "loss_criteria = checkpoint['loss']\n",
        "print('Trained model loss function loaded...')\n",
        "print(f\"Previously trained for {epochs} number of epochs...\")\n",
        "# train for more epochs\n",
        "# epochs = new_epochs\n",
        "# print(f\"Train for {epochs} more epochs...\")"
      ],
      "metadata": {
        "colab": {
          "base_uri": "https://localhost:8080/"
        },
        "id": "nPM0wEyPp8re",
        "outputId": "cccc7c19-2414-46ec-a244-3b48485864a5"
      },
      "execution_count": null,
      "outputs": [
        {
          "output_type": "stream",
          "name": "stdout",
          "text": [
            "Previously trained model weights state_dict loaded...\n",
            "Previously trained optimizer state_dict loaded...\n",
            "Trained model loss function loaded...\n",
            "Previously trained for 76 number of epochs...\n"
          ]
        }
      ]
    },
    {
      "cell_type": "code",
      "execution_count": null,
      "metadata": {
        "colab": {
          "base_uri": "https://localhost:8080/"
        },
        "id": "5Qn1henQhGfv",
        "outputId": "a7c663c4-95e5-4655-e412-c44b205e0183"
      },
      "outputs": [
        {
          "output_type": "stream",
          "name": "stdout",
          "text": [
            "Epoch : 77\n",
            "Training set: Average loss: 0.014591, Train Accuracy: 0.997079\n",
            "Accumulative Training Time : 3078.1438155174255\n",
            "Validation set: Average loss: 65.401416, Accuracy: 1/1368 (0%)\n",
            "\n",
            "Epoch : 78\n",
            "Training set: Average loss: 0.013351, Train Accuracy: 0.997079\n",
            "Accumulative Training Time : 3828.4214947223663\n",
            "Validation set: Average loss: 66.129977, Accuracy: 1/1368 (0%)\n",
            "\n",
            "Epoch : 79\n",
            "Training set: Average loss: 0.013351, Train Accuracy: 0.997246\n",
            "Accumulative Training Time : 4246.32093834877\n",
            "Validation set: Average loss: 66.798139, Accuracy: 1/1368 (0%)\n",
            "\n",
            "Epoch : 80\n",
            "Training set: Average loss: 0.012665, Train Accuracy: 0.997330\n",
            "Accumulative Training Time : 4655.174722909927\n",
            "Validation set: Average loss: 64.848448, Accuracy: 1/1368 (0%)\n",
            "\n",
            "Epoch : 81\n",
            "Training set: Average loss: 0.019503, Train Accuracy: 0.994993\n",
            "Accumulative Training Time : 5062.316071271896\n",
            "Validation set: Average loss: 66.229185, Accuracy: 1/1368 (0%)\n",
            "\n",
            "Epoch : 82\n",
            "Training set: Average loss: 0.037449, Train Accuracy: 0.989403\n",
            "Accumulative Training Time : 5476.5410306453705\n",
            "Validation set: Average loss: 65.328247, Accuracy: 1/1368 (0%)\n",
            "\n",
            "Epoch : 83\n",
            "Training set: Average loss: 0.058448, Train Accuracy: 0.983144\n",
            "Accumulative Training Time : 5882.60049033165\n",
            "Validation set: Average loss: 64.186309, Accuracy: 2/1368 (0%)\n",
            "\n",
            "Epoch : 84\n",
            "Training set: Average loss: 0.028615, Train Accuracy: 0.993658\n",
            "Accumulative Training Time : 6290.185542106628\n",
            "Validation set: Average loss: 64.671285, Accuracy: 1/1368 (0%)\n",
            "\n",
            "Epoch : 85\n",
            "Training set: Average loss: 0.013648, Train Accuracy: 0.997413\n",
            "Accumulative Training Time : 6695.673425197601\n",
            "Validation set: Average loss: 66.018493, Accuracy: 2/1368 (0%)\n",
            "\n",
            "Epoch : 86\n",
            "Training set: Average loss: 0.010752, Train Accuracy: 0.997664\n",
            "Accumulative Training Time : 7085.233939647675\n",
            "Validation set: Average loss: 67.607909, Accuracy: 1/1368 (0%)\n",
            "\n",
            "Epoch : 87\n",
            "Training set: Average loss: 0.009559, Train Accuracy: 0.998248\n",
            "Accumulative Training Time : 7480.879140853882\n",
            "Validation set: Average loss: 67.653411, Accuracy: 2/1368 (0%)\n",
            "\n",
            "Epoch : 88\n",
            "Training set: Average loss: 0.009808, Train Accuracy: 0.997997\n",
            "Accumulative Training Time : 7884.9180953502655\n",
            "Validation set: Average loss: 68.010853, Accuracy: 3/1368 (0%)\n",
            "\n",
            "Epoch : 89\n",
            "Training set: Average loss: 0.009083, Train Accuracy: 0.997747\n",
            "Accumulative Training Time : 8292.799421787262\n",
            "Validation set: Average loss: 67.314828, Accuracy: 1/1368 (0%)\n",
            "\n",
            "Epoch : 90\n",
            "Training set: Average loss: 0.010538, Train Accuracy: 0.997997\n",
            "Accumulative Training Time : 8691.832175254822\n",
            "Validation set: Average loss: 68.187038, Accuracy: 1/1368 (0%)\n",
            "\n",
            "Epoch : 91\n",
            "Training set: Average loss: 0.009670, Train Accuracy: 0.998248\n",
            "Accumulative Training Time : 9090.06395316124\n",
            "Validation set: Average loss: 69.067011, Accuracy: 1/1368 (0%)\n",
            "\n",
            "Epoch : 92\n",
            "Training set: Average loss: 0.007594, Train Accuracy: 0.998665\n",
            "Accumulative Training Time : 9494.706703662872\n",
            "Validation set: Average loss: 70.917401, Accuracy: 2/1368 (0%)\n",
            "\n",
            "Epoch : 93\n",
            "Training set: Average loss: 0.006925, Train Accuracy: 0.998832\n",
            "Accumulative Training Time : 9886.93753695488\n",
            "Validation set: Average loss: 72.118736, Accuracy: 1/1368 (0%)\n",
            "\n",
            "Epoch : 94\n",
            "Training set: Average loss: 0.007662, Train Accuracy: 0.998498\n",
            "Accumulative Training Time : 10279.406188726425\n",
            "Validation set: Average loss: 71.280756, Accuracy: 2/1368 (0%)\n",
            "\n",
            "Epoch : 95\n",
            "Training set: Average loss: 0.012924, Train Accuracy: 0.996328\n",
            "Accumulative Training Time : 10670.245797395706\n",
            "Validation set: Average loss: 69.431936, Accuracy: 2/1368 (0%)\n",
            "\n",
            "Epoch : 96\n",
            "Training set: Average loss: 0.045398, Train Accuracy: 0.987984\n",
            "Accumulative Training Time : 11059.985966205597\n",
            "Validation set: Average loss: 64.691590, Accuracy: 1/1368 (0%)\n",
            "\n",
            "Epoch : 97\n",
            "Training set: Average loss: 0.065145, Train Accuracy: 0.982393\n",
            "Accumulative Training Time : 11459.161892652512\n",
            "Validation set: Average loss: 67.557392, Accuracy: 2/1368 (0%)\n",
            "\n",
            "Epoch : 98\n",
            "Training set: Average loss: 0.025610, Train Accuracy: 0.994159\n",
            "Accumulative Training Time : 11852.441200733185\n",
            "Validation set: Average loss: 66.389274, Accuracy: 1/1368 (0%)\n",
            "\n",
            "Epoch : 99\n",
            "Training set: Average loss: 0.009771, Train Accuracy: 0.998748\n",
            "Accumulative Training Time : 12247.94405412674\n",
            "Validation set: Average loss: 67.834579, Accuracy: 1/1368 (0%)\n",
            "\n",
            "Epoch : 100\n",
            "Training set: Average loss: 0.008781, Train Accuracy: 0.997997\n",
            "Accumulative Training Time : 12639.197281122208\n",
            "Validation set: Average loss: 69.356166, Accuracy: 1/1368 (0%)\n",
            "\n",
            "Finished Training\n",
            "12684.36261343956\n"
          ]
        }
      ],
      "source": [
        "# Track metrics in these arrays\n",
        "epoch_nums = []\n",
        "# training_loss = []\n",
        "# validation_loss = []\n",
        "# training_accuracy = []\n",
        "# validation_accuracy = []\n",
        "\n",
        "\n",
        "# Execution time\n",
        "import time\n",
        "\n",
        "# get starting time\n",
        "start = time.time()\n",
        "\n",
        "\n",
        "\n",
        "# Train\n",
        "for epoch in range(1 + 76, Config.train_number_epochs + 1 + 76):\n",
        "        print('Epoch : {}'.format(epoch))\n",
        "        train_loss, train_accuracy = train(Net, train_loader, optimizer, Config.train_number_epochs)\n",
        "\n",
        "        elapsed_time = (time.time() - start)\n",
        "        print('Accumulative Training Time : {}'.format(elapsed_time))\n",
        "\n",
        "        val_loss, val_accuracy = validation(Net, val_loader)\n",
        "        epoch_nums.append(epoch)\n",
        "        training_loss.append(train_loss)\n",
        "        validation_loss.append(val_loss)\n",
        "\n",
        "        training_accuracy.append(train_accuracy)\n",
        "        validation_accuracy.append(val_accuracy)\n",
        "\n",
        "        # For each epoch, save model checkpoint\n",
        "        torch.save({\n",
        "            'epoch': epoch,\n",
        "            'model_state_dict': Net.state_dict(),\n",
        "            'optimizer_state_dict': optimizer.state_dict(),\n",
        "            'loss': loss_criteria,\n",
        "            }, '/content/drive/MyDrive/thesis/checkpoint_CNN_100.pth')\n",
        "\n",
        "        # For each epoch, save loss & accuracy\n",
        "        df = pd.DataFrame({'training_loss': training_loss, 'validation_loss': validation_loss, 'training_accuracy': training_accuracy, 'validation_accuracy': validation_accuracy} )\n",
        "        df.to_csv('/content/drive/MyDrive/thesis/model1_loss_accuracy_2.csv')\n",
        "\n",
        "\n",
        "\n",
        "\n",
        "elapsed_time = (time.time() - start)\n",
        "print(\"Finished Training\")\n",
        "print(elapsed_time)"
      ]
    },
    {
      "cell_type": "code",
      "execution_count": null,
      "metadata": {
        "colab": {
          "base_uri": "https://localhost:8080/",
          "height": 1000
        },
        "id": "nzXqjK_qhRKx",
        "outputId": "a7709842-f0b9-420b-e5e7-08bb693c0904"
      },
      "outputs": [
        {
          "data": {
            "image/png": "[encoded data removed]",
            "text/plain": [
              "<Figure size 1500x1500 with 1 Axes>"
            ]
          },
          "metadata": {},
          "output_type": "display_data"
        }
      ],
      "source": [
        "# Loss History\n",
        "\n",
        "plt.figure(figsize=(15,15))\n",
        "plt.plot(epoch_nums, training_loss)\n",
        "plt.plot(epoch_nums, validation_loss)\n",
        "plt.xlabel('epoch')\n",
        "plt.ylabel('loss')\n",
        "plt.legend(['training', 'validation'], loc='upper right')\n",
        "plt.show()"
      ]
    },
    {
      "cell_type": "code",
      "execution_count": null,
      "metadata": {
        "id": "h595eIFQL42s"
      },
      "outputs": [],
      "source": [
        "torch.save({\n",
        "            'epoch': Config.train_number_epochs,\n",
        "            'model_state_dict': Net.state_dict(),\n",
        "            'optimizer_state_dict': optimizer.state_dict(),\n",
        "            'loss': loss_criteria,\n",
        "            }, '/content/drive/MyDrive/thesis/checkpoint_CNN_50.pth')"
      ]
    },
    {
      "cell_type": "code",
      "execution_count": null,
      "metadata": {
        "id": "dawfyYpSMlwh"
      },
      "outputs": [],
      "source": [
        "# load the model checkpoint\n",
        "checkpoint = torch.load('/content/drive/MyDrive/thesis/checkpoint_CNN_50.pth')\n",
        "# load model weights state_dict\n",
        "Net.load_state_dict(checkpoint['model_state_dict'])\n",
        "print('Previously trained model weights state_dict loaded...')\n",
        "# load trained optimizer state_dict\n",
        "optimizer.load_state_dict(checkpoint['optimizer_state_dict'])\n",
        "print('Previously trained optimizer state_dict loaded...')\n",
        "epochs = checkpoint['epoch']\n",
        "# load the criterion\n",
        "loss_criteria = checkpoint['loss']\n",
        "print('Trained model loss function loaded...')\n",
        "print(f\"Previously trained for {epochs} number of epochs...\")\n",
        "# train for more epochs\n",
        "epochs = new_epochs\n",
        "print(f\"Train for {epochs} more epochs...\")"
      ]
    },
    {
      "cell_type": "code",
      "execution_count": null,
      "metadata": {
        "colab": {
          "base_uri": "https://localhost:8080/",
          "height": 500
        },
        "id": "Kc3P670q-iO6",
        "outputId": "2af8e3db-ba4f-4b03-fcd3-900d74e16ee9"
      },
      "outputs": [
        {
          "output_type": "stream",
          "name": "stderr",
          "text": [
            "<ipython-input-30-7756a38fd3e2>:6: MatplotlibDeprecationWarning: The seaborn styles shipped by Matplotlib are deprecated since 3.6, as they no longer correspond to the styles shipped by seaborn. However, they will remain available as 'seaborn-v0_8-<style>'. Alternatively, directly use the seaborn API instead.\n",
            "  plt.style.use(\"seaborn-darkgrid\")\n"
          ]
        },
        {
          "output_type": "display_data",
          "data": {
            "text/plain": [
              "<Figure size 640x480 with 1 Axes>"
            ],
            "image/png": "[encoded data removed]"
          },
          "metadata": {}
        }
      ],
      "source": [
        "# Loss History _ 100\n",
        "total_epochs = 100\n",
        "\n",
        "x = [i for i in range(total_epochs)]\n",
        "\n",
        "plt.style.use(\"seaborn-darkgrid\")\n",
        "\n",
        "plt.plot(x, training_loss, label = \"train loss\", color = '#440154')\n",
        "plt.plot(x, validation_loss, label = \"validation loss\", color = '#fde725')\n",
        "plt.xlabel('epoch')\n",
        "plt.ylabel('loss')\n",
        "plt.viridis()\n",
        "plt.legend()\n",
        "plt.show()"
      ]
    },
    {
      "cell_type": "code",
      "execution_count": null,
      "metadata": {
        "colab": {
          "base_uri": "https://localhost:8080/",
          "height": 500
        },
        "id": "o0rFWnkkEnQG",
        "outputId": "c0785f04-0989-4db2-98d7-656496d0f073"
      },
      "outputs": [
        {
          "output_type": "stream",
          "name": "stderr",
          "text": [
            "<ipython-input-31-58ea1ed40c3f>:6: MatplotlibDeprecationWarning: The seaborn styles shipped by Matplotlib are deprecated since 3.6, as they no longer correspond to the styles shipped by seaborn. However, they will remain available as 'seaborn-v0_8-<style>'. Alternatively, directly use the seaborn API instead.\n",
            "  plt.style.use(\"seaborn-darkgrid\")\n"
          ]
        },
        {
          "output_type": "display_data",
          "data": {
            "text/plain": [
              "<Figure size 640x480 with 1 Axes>"
            ],
            "image/png": "[encoded data removed]"
          },
          "metadata": {}
        }
      ],
      "source": [
        "# Accuracy History _ 100\n",
        "\n",
        "\n",
        "x = [i for i in range(total_epochs)]\n",
        "\n",
        "plt.style.use(\"seaborn-darkgrid\")\n",
        "\n",
        "plt.plot(x, training_accuracy, label = \"train accuracy\", color = '#440154')\n",
        "plt.plot(x, validation_accuracy, label = \"validation accuracy\", color = '#fde725')\n",
        "plt.xlabel('epoch')\n",
        "plt.ylabel('accuracy')\n",
        "plt.viridis()\n",
        "plt.legend()\n",
        "plt.show()"
      ]
    },
    {
      "cell_type": "code",
      "execution_count": null,
      "metadata": {
        "colab": {
          "background_save": true
        },
        "id": "0ZFnjXDihMju"
      },
      "outputs": [],
      "source": [
        "# save\n",
        "torch.save(Net.state_dict(), '/content/drive/MyDrive/thesis/checkpoint_CNN_100.pth')"
      ]
    },
    {
      "cell_type": "code",
      "execution_count": null,
      "metadata": {
        "colab": {
          "base_uri": "https://localhost:8080/"
        },
        "id": "cGDOgapOAj73",
        "outputId": "d8e8d310-3377-4397-c8a1-57c746cd7d7a"
      },
      "outputs": [
        {
          "data": {
            "text/plain": [
              "<All keys matched successfully>"
            ]
          },
          "execution_count": 13,
          "metadata": {},
          "output_type": "execute_result"
        }
      ],
      "source": [
        "# load the state\n",
        "state_dict = torch.load(r\"/content/drive/MyDrive/thesis/checkpoint_CNN_100.pth\")\n",
        "\n",
        "# load the state dict into the model\n",
        "Net.load_state_dict(state_dict)"
      ]
    },
    {
      "cell_type": "code",
      "execution_count": null,
      "metadata": {
        "id": "pfBPzi0bhR9F"
      },
      "outputs": [],
      "source": [
        "# test\n",
        "folder_dataset_test = dset.ImageFolder(root=Config.testing_dir, transform=transform)\n",
        "\n",
        "test_loader = DataLoader(folder_dataset_test,num_workers=6,batch_size=1,shuffle=True)\n"
      ]
    },
    {
      "cell_type": "code",
      "execution_count": null,
      "metadata": {
        "id": "XzYW2Eveha6_",
        "colab": {
          "base_uri": "https://localhost:8080/"
        },
        "outputId": "3a05ff35-a6fa-4a8e-f931-1fd76ba3955d"
      },
      "outputs": [
        {
          "output_type": "stream",
          "name": "stdout",
          "text": [
            "Getting predictions from test set...\n"
          ]
        }
      ],
      "source": [
        "# Test Accuracy Check with test dataset\n",
        "\n",
        "truelabels = []\n",
        "predictions = []\n",
        "Net.eval()\n",
        "print(\"Getting predictions from test set...\")\n",
        "for data, target in test_loader:\n",
        "    data, target= data.cuda(), target.cuda()\n",
        "\n",
        "    for label in target.data.cpu().numpy(): #target.data.numpy()\n",
        "        truelabels.append(label)\n",
        "    for prediction in Net(data).data.cpu().numpy().argmax(1): #Net(data).data.numpy().argmax(1)\n",
        "        predictions.append(prediction)"
      ]
    },
    {
      "cell_type": "code",
      "execution_count": null,
      "metadata": {
        "colab": {
          "base_uri": "https://localhost:8080/"
        },
        "id": "FYrRA0PqJt24",
        "outputId": "47ec6692-a8e0-40a2-857f-eda849281128"
      },
      "outputs": [
        {
          "name": "stdout",
          "output_type": "stream",
          "text": [
            "0.5080066261733849\n"
          ]
        }
      ],
      "source": [
        "# epoch 25\n",
        "\n",
        "t_result = 0\n",
        "\n",
        "for i in range(len(truelabels)):\n",
        "  if truelabels[i] == predictions[i]:\n",
        "    t_result += 1\n",
        "\n",
        "\n",
        "# for i, j in truelabels, predictions:\n",
        "#   if i==j:\n",
        "#     t_result += 1\n",
        "Accuracy = t_result / len(truelabels)\n",
        "print(Accuracy)"
      ]
    },
    {
      "cell_type": "code",
      "execution_count": null,
      "metadata": {
        "id": "SYOMIGCEKBKv",
        "colab": {
          "base_uri": "https://localhost:8080/"
        },
        "outputId": "01e617c5-5444-4df7-b06d-5a0b114abe81"
      },
      "outputs": [
        {
          "output_type": "stream",
          "name": "stdout",
          "text": [
            "0.5140806184428492\n"
          ]
        }
      ],
      "source": [
        "# epoch 100\n",
        "\n",
        "t_result = 0\n",
        "\n",
        "for i in range(len(truelabels)):\n",
        "  if truelabels[i] == predictions[i]:\n",
        "    t_result += 1\n",
        "\n",
        "\n",
        "# for i, j in truelabels, predictions:\n",
        "#   if i==j:\n",
        "#     t_result += 1\n",
        "Accuracy = t_result / len(truelabels)\n",
        "print(Accuracy)"
      ]
    }
  ],
  "metadata": {
    "accelerator": "GPU",
    "colab": {
      "machine_shape": "hm",
      "provenance": [],
      "gpuType": "T4",
      "authorship_tag": "ABX9TyNDDMALM+qKFI3a7ph9VcYt",
      "include_colab_link": true
    },
    "kernelspec": {
      "display_name": "Python 3",
      "name": "python3"
    },
    "language_info": {
      "name": "python"
    }
  },
  "nbformat": 4,
  "nbformat_minor": 0
}